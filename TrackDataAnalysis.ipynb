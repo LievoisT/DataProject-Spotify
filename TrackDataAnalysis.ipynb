{
 "cells": [
  {
   "cell_type": "code",
   "execution_count": 72,
   "metadata": {},
   "outputs": [],
   "source": [
    "import pandas as pd\n",
    "import numpy as np\n",
    "import requests\n",
    "import json\n",
    "import spotipy\n",
    "import matplotlib.pyplot as plt\n"
   ]
  },
  {
   "cell_type": "code",
   "execution_count": 92,
   "metadata": {},
   "outputs": [
    {
     "data": {
      "text/html": [
       "<div>\n",
       "<style scoped>\n",
       "    .dataframe tbody tr th:only-of-type {\n",
       "        vertical-align: middle;\n",
       "    }\n",
       "\n",
       "    .dataframe tbody tr th {\n",
       "        vertical-align: top;\n",
       "    }\n",
       "\n",
       "    .dataframe thead th {\n",
       "        text-align: right;\n",
       "    }\n",
       "</style>\n",
       "<table border=\"1\" class=\"dataframe\">\n",
       "  <thead>\n",
       "    <tr style=\"text-align: right;\">\n",
       "      <th></th>\n",
       "      <th>Artist</th>\n",
       "      <th>Artist ID</th>\n",
       "      <th>Tracks</th>\n",
       "      <th>Track ID</th>\n",
       "      <th>Release Date</th>\n",
       "      <th>Track Duration</th>\n",
       "      <th>Popularity</th>\n",
       "      <th>Danceability</th>\n",
       "      <th>Energy</th>\n",
       "      <th>Key</th>\n",
       "      <th>Loudness</th>\n",
       "      <th>Mode</th>\n",
       "      <th>Speechiness</th>\n",
       "      <th>Acousticness</th>\n",
       "      <th>Instrumentalness</th>\n",
       "      <th>Liveness</th>\n",
       "      <th>Valence</th>\n",
       "      <th>Tempo</th>\n",
       "    </tr>\n",
       "  </thead>\n",
       "  <tbody>\n",
       "    <tr>\n",
       "      <th>0</th>\n",
       "      <td>The Beatles</td>\n",
       "      <td>3WrFJ7ztbogyGnTHbHJFl2</td>\n",
       "      <td>Here Comes The Sun - Remastered 2009</td>\n",
       "      <td>6dGnYIeXmHdcikdzNNDMm2</td>\n",
       "      <td>1969-09-26</td>\n",
       "      <td>185733</td>\n",
       "      <td>83</td>\n",
       "      <td>0.557</td>\n",
       "      <td>0.5400</td>\n",
       "      <td>9.0</td>\n",
       "      <td>-10.484</td>\n",
       "      <td>1.0</td>\n",
       "      <td>0.0347</td>\n",
       "      <td>0.0339</td>\n",
       "      <td>0.002480</td>\n",
       "      <td>0.1790</td>\n",
       "      <td>0.394</td>\n",
       "      <td>129.171</td>\n",
       "    </tr>\n",
       "    <tr>\n",
       "      <th>1</th>\n",
       "      <td>The Beatles</td>\n",
       "      <td>3WrFJ7ztbogyGnTHbHJFl2</td>\n",
       "      <td>Come Together - Remastered 2009</td>\n",
       "      <td>2EqlS6tkEnglzr7tkKAAYD</td>\n",
       "      <td>1969-09-26</td>\n",
       "      <td>259946</td>\n",
       "      <td>78</td>\n",
       "      <td>0.533</td>\n",
       "      <td>0.3760</td>\n",
       "      <td>9.0</td>\n",
       "      <td>-11.913</td>\n",
       "      <td>0.0</td>\n",
       "      <td>0.0393</td>\n",
       "      <td>0.0302</td>\n",
       "      <td>0.248000</td>\n",
       "      <td>0.0926</td>\n",
       "      <td>0.187</td>\n",
       "      <td>165.007</td>\n",
       "    </tr>\n",
       "    <tr>\n",
       "      <th>2</th>\n",
       "      <td>The Beatles</td>\n",
       "      <td>3WrFJ7ztbogyGnTHbHJFl2</td>\n",
       "      <td>Let It Be - Remastered 2009</td>\n",
       "      <td>7iN1s7xHE4ifF5povM6A48</td>\n",
       "      <td>1970-05-08</td>\n",
       "      <td>243026</td>\n",
       "      <td>78</td>\n",
       "      <td>0.443</td>\n",
       "      <td>0.4030</td>\n",
       "      <td>0.0</td>\n",
       "      <td>-8.339</td>\n",
       "      <td>1.0</td>\n",
       "      <td>0.0322</td>\n",
       "      <td>0.6310</td>\n",
       "      <td>0.000000</td>\n",
       "      <td>0.1110</td>\n",
       "      <td>0.410</td>\n",
       "      <td>143.462</td>\n",
       "    </tr>\n",
       "    <tr>\n",
       "      <th>3</th>\n",
       "      <td>The Beatles</td>\n",
       "      <td>3WrFJ7ztbogyGnTHbHJFl2</td>\n",
       "      <td>Yesterday - Remastered 2009</td>\n",
       "      <td>3BQHpFgAp4l80e1XslIjNI</td>\n",
       "      <td>1965-08-06</td>\n",
       "      <td>125666</td>\n",
       "      <td>77</td>\n",
       "      <td>0.332</td>\n",
       "      <td>0.1790</td>\n",
       "      <td>5.0</td>\n",
       "      <td>-11.830</td>\n",
       "      <td>1.0</td>\n",
       "      <td>0.0326</td>\n",
       "      <td>0.8790</td>\n",
       "      <td>0.000000</td>\n",
       "      <td>0.0886</td>\n",
       "      <td>0.315</td>\n",
       "      <td>96.529</td>\n",
       "    </tr>\n",
       "    <tr>\n",
       "      <th>4</th>\n",
       "      <td>The Beatles</td>\n",
       "      <td>3WrFJ7ztbogyGnTHbHJFl2</td>\n",
       "      <td>Hey Jude - Remastered 2015</td>\n",
       "      <td>0aym2LBJBk9DAYuHHutrIl</td>\n",
       "      <td>2000-11-13</td>\n",
       "      <td>425653</td>\n",
       "      <td>76</td>\n",
       "      <td>0.386</td>\n",
       "      <td>0.6070</td>\n",
       "      <td>10.0</td>\n",
       "      <td>-7.700</td>\n",
       "      <td>1.0</td>\n",
       "      <td>0.0261</td>\n",
       "      <td>0.0112</td>\n",
       "      <td>0.000014</td>\n",
       "      <td>0.0880</td>\n",
       "      <td>0.532</td>\n",
       "      <td>147.207</td>\n",
       "    </tr>\n",
       "    <tr>\n",
       "      <th>...</th>\n",
       "      <td>...</td>\n",
       "      <td>...</td>\n",
       "      <td>...</td>\n",
       "      <td>...</td>\n",
       "      <td>...</td>\n",
       "      <td>...</td>\n",
       "      <td>...</td>\n",
       "      <td>...</td>\n",
       "      <td>...</td>\n",
       "      <td>...</td>\n",
       "      <td>...</td>\n",
       "      <td>...</td>\n",
       "      <td>...</td>\n",
       "      <td>...</td>\n",
       "      <td>...</td>\n",
       "      <td>...</td>\n",
       "      <td>...</td>\n",
       "      <td>...</td>\n",
       "    </tr>\n",
       "    <tr>\n",
       "      <th>9709</th>\n",
       "      <td>Blind Lemon Jefferson</td>\n",
       "      <td>6EsuMifB8c5rm5P2DdjiLe</td>\n",
       "      <td>Future Blues</td>\n",
       "      <td>7cAXWkbpR8Szb06AFXhAmJ</td>\n",
       "      <td>2013-08-27</td>\n",
       "      <td>180773</td>\n",
       "      <td>15</td>\n",
       "      <td>0.461</td>\n",
       "      <td>0.3080</td>\n",
       "      <td>8.0</td>\n",
       "      <td>-15.467</td>\n",
       "      <td>1.0</td>\n",
       "      <td>0.0515</td>\n",
       "      <td>0.9950</td>\n",
       "      <td>0.808000</td>\n",
       "      <td>0.1180</td>\n",
       "      <td>0.672</td>\n",
       "      <td>201.370</td>\n",
       "    </tr>\n",
       "    <tr>\n",
       "      <th>9710</th>\n",
       "      <td>Blind Lemon Jefferson</td>\n",
       "      <td>6EsuMifB8c5rm5P2DdjiLe</td>\n",
       "      <td>Match Box Blues</td>\n",
       "      <td>4dBUAjMjmAednMqt8PU4AI</td>\n",
       "      <td>1992-01-01</td>\n",
       "      <td>187400</td>\n",
       "      <td>14</td>\n",
       "      <td>0.558</td>\n",
       "      <td>0.0496</td>\n",
       "      <td>2.0</td>\n",
       "      <td>-20.291</td>\n",
       "      <td>1.0</td>\n",
       "      <td>0.0590</td>\n",
       "      <td>0.9960</td>\n",
       "      <td>0.639000</td>\n",
       "      <td>0.1180</td>\n",
       "      <td>0.372</td>\n",
       "      <td>134.337</td>\n",
       "    </tr>\n",
       "    <tr>\n",
       "      <th>9711</th>\n",
       "      <td>Blind Lemon Jefferson</td>\n",
       "      <td>6EsuMifB8c5rm5P2DdjiLe</td>\n",
       "      <td>Rabbit Foot Blues</td>\n",
       "      <td>69xrgBndFd3zs6kqVZ8LDO</td>\n",
       "      <td>1991</td>\n",
       "      <td>179095</td>\n",
       "      <td>13</td>\n",
       "      <td>0.556</td>\n",
       "      <td>0.1660</td>\n",
       "      <td>8.0</td>\n",
       "      <td>-17.650</td>\n",
       "      <td>1.0</td>\n",
       "      <td>0.0542</td>\n",
       "      <td>0.9430</td>\n",
       "      <td>0.000038</td>\n",
       "      <td>0.5630</td>\n",
       "      <td>0.539</td>\n",
       "      <td>123.042</td>\n",
       "    </tr>\n",
       "    <tr>\n",
       "      <th>9712</th>\n",
       "      <td>Blind Lemon Jefferson</td>\n",
       "      <td>6EsuMifB8c5rm5P2DdjiLe</td>\n",
       "      <td>That Black Snake Moan</td>\n",
       "      <td>0I4nvtM87RCvywkmeinsqI</td>\n",
       "      <td>1992-01-01</td>\n",
       "      <td>178640</td>\n",
       "      <td>12</td>\n",
       "      <td>0.529</td>\n",
       "      <td>0.0183</td>\n",
       "      <td>6.0</td>\n",
       "      <td>-21.036</td>\n",
       "      <td>1.0</td>\n",
       "      <td>0.0581</td>\n",
       "      <td>0.9820</td>\n",
       "      <td>0.031600</td>\n",
       "      <td>0.1330</td>\n",
       "      <td>0.554</td>\n",
       "      <td>142.349</td>\n",
       "    </tr>\n",
       "    <tr>\n",
       "      <th>9713</th>\n",
       "      <td>Blind Lemon Jefferson</td>\n",
       "      <td>6EsuMifB8c5rm5P2DdjiLe</td>\n",
       "      <td>Match Box Blues</td>\n",
       "      <td>2n1XNQt5Vnfd20qgrhwh9K</td>\n",
       "      <td>2014-09-07</td>\n",
       "      <td>181472</td>\n",
       "      <td>10</td>\n",
       "      <td>0.563</td>\n",
       "      <td>0.1850</td>\n",
       "      <td>10.0</td>\n",
       "      <td>-16.091</td>\n",
       "      <td>1.0</td>\n",
       "      <td>0.0939</td>\n",
       "      <td>0.9820</td>\n",
       "      <td>0.730000</td>\n",
       "      <td>0.0908</td>\n",
       "      <td>0.598</td>\n",
       "      <td>173.142</td>\n",
       "    </tr>\n",
       "  </tbody>\n",
       "</table>\n",
       "<p>9714 rows × 18 columns</p>\n",
       "</div>"
      ],
      "text/plain": [
       "                     Artist               Artist ID  \\\n",
       "0               The Beatles  3WrFJ7ztbogyGnTHbHJFl2   \n",
       "1               The Beatles  3WrFJ7ztbogyGnTHbHJFl2   \n",
       "2               The Beatles  3WrFJ7ztbogyGnTHbHJFl2   \n",
       "3               The Beatles  3WrFJ7ztbogyGnTHbHJFl2   \n",
       "4               The Beatles  3WrFJ7ztbogyGnTHbHJFl2   \n",
       "...                     ...                     ...   \n",
       "9709  Blind Lemon Jefferson  6EsuMifB8c5rm5P2DdjiLe   \n",
       "9710  Blind Lemon Jefferson  6EsuMifB8c5rm5P2DdjiLe   \n",
       "9711  Blind Lemon Jefferson  6EsuMifB8c5rm5P2DdjiLe   \n",
       "9712  Blind Lemon Jefferson  6EsuMifB8c5rm5P2DdjiLe   \n",
       "9713  Blind Lemon Jefferson  6EsuMifB8c5rm5P2DdjiLe   \n",
       "\n",
       "                                    Tracks                Track ID  \\\n",
       "0     Here Comes The Sun - Remastered 2009  6dGnYIeXmHdcikdzNNDMm2   \n",
       "1          Come Together - Remastered 2009  2EqlS6tkEnglzr7tkKAAYD   \n",
       "2              Let It Be - Remastered 2009  7iN1s7xHE4ifF5povM6A48   \n",
       "3              Yesterday - Remastered 2009  3BQHpFgAp4l80e1XslIjNI   \n",
       "4               Hey Jude - Remastered 2015  0aym2LBJBk9DAYuHHutrIl   \n",
       "...                                    ...                     ...   \n",
       "9709                          Future Blues  7cAXWkbpR8Szb06AFXhAmJ   \n",
       "9710                       Match Box Blues  4dBUAjMjmAednMqt8PU4AI   \n",
       "9711                     Rabbit Foot Blues  69xrgBndFd3zs6kqVZ8LDO   \n",
       "9712                 That Black Snake Moan  0I4nvtM87RCvywkmeinsqI   \n",
       "9713                       Match Box Blues  2n1XNQt5Vnfd20qgrhwh9K   \n",
       "\n",
       "     Release Date  Track Duration  Popularity  Danceability  Energy   Key  \\\n",
       "0      1969-09-26          185733          83         0.557  0.5400   9.0   \n",
       "1      1969-09-26          259946          78         0.533  0.3760   9.0   \n",
       "2      1970-05-08          243026          78         0.443  0.4030   0.0   \n",
       "3      1965-08-06          125666          77         0.332  0.1790   5.0   \n",
       "4      2000-11-13          425653          76         0.386  0.6070  10.0   \n",
       "...           ...             ...         ...           ...     ...   ...   \n",
       "9709   2013-08-27          180773          15         0.461  0.3080   8.0   \n",
       "9710   1992-01-01          187400          14         0.558  0.0496   2.0   \n",
       "9711         1991          179095          13         0.556  0.1660   8.0   \n",
       "9712   1992-01-01          178640          12         0.529  0.0183   6.0   \n",
       "9713   2014-09-07          181472          10         0.563  0.1850  10.0   \n",
       "\n",
       "      Loudness  Mode  Speechiness  Acousticness  Instrumentalness  Liveness  \\\n",
       "0      -10.484   1.0       0.0347        0.0339          0.002480    0.1790   \n",
       "1      -11.913   0.0       0.0393        0.0302          0.248000    0.0926   \n",
       "2       -8.339   1.0       0.0322        0.6310          0.000000    0.1110   \n",
       "3      -11.830   1.0       0.0326        0.8790          0.000000    0.0886   \n",
       "4       -7.700   1.0       0.0261        0.0112          0.000014    0.0880   \n",
       "...        ...   ...          ...           ...               ...       ...   \n",
       "9709   -15.467   1.0       0.0515        0.9950          0.808000    0.1180   \n",
       "9710   -20.291   1.0       0.0590        0.9960          0.639000    0.1180   \n",
       "9711   -17.650   1.0       0.0542        0.9430          0.000038    0.5630   \n",
       "9712   -21.036   1.0       0.0581        0.9820          0.031600    0.1330   \n",
       "9713   -16.091   1.0       0.0939        0.9820          0.730000    0.0908   \n",
       "\n",
       "      Valence    Tempo  \n",
       "0       0.394  129.171  \n",
       "1       0.187  165.007  \n",
       "2       0.410  143.462  \n",
       "3       0.315   96.529  \n",
       "4       0.532  147.207  \n",
       "...       ...      ...  \n",
       "9709    0.672  201.370  \n",
       "9710    0.372  134.337  \n",
       "9711    0.539  123.042  \n",
       "9712    0.554  142.349  \n",
       "9713    0.598  173.142  \n",
       "\n",
       "[9714 rows x 18 columns]"
      ]
     },
     "execution_count": 92,
     "metadata": {},
     "output_type": "execute_result"
    }
   ],
   "source": [
    "# Import our data into pandas from CSV\n",
    "csvfilepath = 'Trackfile.csv'\n",
    "track_df = pd.read_csv(csvfilepath)\n",
    "\n",
    "track_df"
   ]
  },
  {
   "cell_type": "code",
   "execution_count": 105,
   "metadata": {},
   "outputs": [],
   "source": [
    "track_df[\"Release Year\"] = track_df[\"Release Date\"].str.slice(0, 4)\n",
    "track_df[\"Release Year\"] = track_df[\"Release Year\"].astype(int)"
   ]
  },
  {
   "cell_type": "code",
   "execution_count": 106,
   "metadata": {},
   "outputs": [],
   "source": [
    "bins = [0, 20, 40, 60, 80, 100]\n",
    "# Create the names for the five bins\n",
    "group_names = [\"0-20\", \"20-40\", \"40-60\", \"60-80\", \"80-100\"]\n",
    "track_df[\"Popularity Group\"] = pd.cut(track_df[\"Popularity\"], bins, labels=group_names)"
   ]
  },
  {
   "cell_type": "code",
   "execution_count": 113,
   "metadata": {},
   "outputs": [],
   "source": [
    "bins = [1920,1930, 1940,1950, 1960, 1970, 1980, 1990, 2000, 2010, 2020]\n",
    "# Create the names for the five bins\n",
    "group_names = [\"1920-30\",\"1930-40\",\"1940-50\",\"1950-60\", \"1960-70\", \"1970-80\", \"1980-90\", \"1990-2000\",\"2000-10\", \"2010-20\"]\n",
    "track_df[\"Release Year Decade\"] = pd.cut(track_df[\"Release Year\"], bins, labels=group_names)"
   ]
  },
  {
   "cell_type": "code",
   "execution_count": 122,
   "metadata": {},
   "outputs": [],
   "source": [
    "filtered_tracks = track_df.loc[:, ['Track ID', 'Track Duration', 'Release Year','Popularity', 'Popularity Group', 'Release Year Decade']] \n",
    "filtered_tracks[\"Track Duration\"]  = round(((filtered_tracks[\"Track Duration\"]/1000)/60),0)\n",
    "filtered_tracks = filtered_tracks.rename(columns={'Track Duration': 'Track Duration(In Mins)'})\n"
   ]
  },
  {
   "cell_type": "code",
   "execution_count": 123,
   "metadata": {},
   "outputs": [
    {
     "name": "stdout",
     "output_type": "stream",
     "text": [
      "Values below -3.0 could be outliers.\n",
      "Values above 11.0 could be outliers.\n"
     ]
    },
    {
     "data": {
      "text/html": [
       "<div>\n",
       "<style scoped>\n",
       "    .dataframe tbody tr th:only-of-type {\n",
       "        vertical-align: middle;\n",
       "    }\n",
       "\n",
       "    .dataframe tbody tr th {\n",
       "        vertical-align: top;\n",
       "    }\n",
       "\n",
       "    .dataframe thead th {\n",
       "        text-align: right;\n",
       "    }\n",
       "</style>\n",
       "<table border=\"1\" class=\"dataframe\">\n",
       "  <thead>\n",
       "    <tr style=\"text-align: right;\">\n",
       "      <th></th>\n",
       "      <th>Track ID</th>\n",
       "      <th>Track Duration(In Mins)</th>\n",
       "      <th>Release Year</th>\n",
       "      <th>Popularity</th>\n",
       "      <th>Popularity Group</th>\n",
       "      <th>Release Year Decade</th>\n",
       "    </tr>\n",
       "  </thead>\n",
       "  <tbody>\n",
       "    <tr>\n",
       "      <th>0</th>\n",
       "      <td>6dGnYIeXmHdcikdzNNDMm2</td>\n",
       "      <td>3.0</td>\n",
       "      <td>1969</td>\n",
       "      <td>83</td>\n",
       "      <td>80-100</td>\n",
       "      <td>1960-70</td>\n",
       "    </tr>\n",
       "    <tr>\n",
       "      <th>1</th>\n",
       "      <td>2EqlS6tkEnglzr7tkKAAYD</td>\n",
       "      <td>4.0</td>\n",
       "      <td>1969</td>\n",
       "      <td>78</td>\n",
       "      <td>60-80</td>\n",
       "      <td>1960-70</td>\n",
       "    </tr>\n",
       "    <tr>\n",
       "      <th>2</th>\n",
       "      <td>7iN1s7xHE4ifF5povM6A48</td>\n",
       "      <td>4.0</td>\n",
       "      <td>1970</td>\n",
       "      <td>78</td>\n",
       "      <td>60-80</td>\n",
       "      <td>1960-70</td>\n",
       "    </tr>\n",
       "    <tr>\n",
       "      <th>3</th>\n",
       "      <td>3BQHpFgAp4l80e1XslIjNI</td>\n",
       "      <td>2.0</td>\n",
       "      <td>1965</td>\n",
       "      <td>77</td>\n",
       "      <td>60-80</td>\n",
       "      <td>1960-70</td>\n",
       "    </tr>\n",
       "    <tr>\n",
       "      <th>4</th>\n",
       "      <td>0aym2LBJBk9DAYuHHutrIl</td>\n",
       "      <td>7.0</td>\n",
       "      <td>2000</td>\n",
       "      <td>76</td>\n",
       "      <td>60-80</td>\n",
       "      <td>1990-2000</td>\n",
       "    </tr>\n",
       "  </tbody>\n",
       "</table>\n",
       "</div>"
      ],
      "text/plain": [
       "                 Track ID  Track Duration(In Mins)  Release Year  Popularity  \\\n",
       "0  6dGnYIeXmHdcikdzNNDMm2                      3.0          1969          83   \n",
       "1  2EqlS6tkEnglzr7tkKAAYD                      4.0          1969          78   \n",
       "2  7iN1s7xHE4ifF5povM6A48                      4.0          1970          78   \n",
       "3  3BQHpFgAp4l80e1XslIjNI                      2.0          1965          77   \n",
       "4  0aym2LBJBk9DAYuHHutrIl                      7.0          2000          76   \n",
       "\n",
       "  Popularity Group Release Year Decade  \n",
       "0           80-100             1960-70  \n",
       "1            60-80             1960-70  \n",
       "2            60-80             1960-70  \n",
       "3            60-80             1960-70  \n",
       "4            60-80           1990-2000  "
      ]
     },
     "execution_count": 123,
     "metadata": {},
     "output_type": "execute_result"
    }
   ],
   "source": [
    "lowerq = float(filtered_tracks[\"Track Duration(In Mins)\"].quantile(0.25))\n",
    "upperq = float(filtered_tracks[\"Track Duration(In Mins)\"].quantile(0.75))\n",
    "median = float(filtered_tracks[\"Track Duration(In Mins)\"].quantile(0.5))\n",
    "iqr = upperq-lowerq\n",
    "lower_bound = lowerq - (3*iqr)\n",
    "upper_bound = upperq + (3*iqr)\n",
    "print(f\"Values below {lower_bound} could be outliers.\")\n",
    "print(f\"Values above {upper_bound} could be outliers.\")\n",
    "\n",
    "outlier_occupancy = filtered_tracks.loc[(filtered_tracks['Track Duration(In Mins)'] >= lower_bound) & (filtered_tracks['Track Duration(In Mins)'] <= upper_bound)]\n",
    "outlier_occupancy.head()"
   ]
  },
  {
   "cell_type": "code",
   "execution_count": 124,
   "metadata": {},
   "outputs": [
    {
     "name": "stdout",
     "output_type": "stream",
     "text": [
      "Tracks with shorter duration are more popular\n"
     ]
    },
    {
     "data": {
      "text/plain": [
       "Popularity Group\n",
       "0-20      3.939302\n",
       "20-40     4.080110\n",
       "40-60     4.151346\n",
       "60-80     4.128495\n",
       "80-100    3.745455\n",
       "Name: Track Duration(In Mins), dtype: float64"
      ]
     },
     "execution_count": 124,
     "metadata": {},
     "output_type": "execute_result"
    }
   ],
   "source": [
    "filtered_tracks_group = outlier_occupancy.groupby(\"Popularity Group\")\n",
    "print(\"Tracks with shorter duration are more popular\")\n",
    "filtered_tracks_group[\"Track Duration(In Mins)\"].mean()\n"
   ]
  },
  {
   "cell_type": "code",
   "execution_count": 125,
   "metadata": {},
   "outputs": [
    {
     "data": {
      "image/png": "[encoded data removed]",
      "text/plain": [
       "<Figure size 432x288 with 1 Axes>"
      ]
     },
     "metadata": {
      "needs_background": "light"
     },
     "output_type": "display_data"
    },
    {
     "data": {
      "text/plain": [
       "<Figure size 432x288 with 0 Axes>"
      ]
     },
     "metadata": {},
     "output_type": "display_data"
    }
   ],
   "source": [
    "Average_Track_Duration = filtered_tracks_group[\"Track Duration(In Mins)\"].mean()\n",
    "Track_chart = Average_Track_Duration.plot(kind=\"bar\", title=\"Track Duration By Popularity\")\n",
    "Track_chart.set_xlabel(\"Popularity Range\")\n",
    "Track_chart.set_ylabel(\"Average Track Duration (In Mins)\")\n",
    "\n",
    "plt.show()\n",
    "plt.tight_layout()"
   ]
  },
  {
   "cell_type": "code",
   "execution_count": 128,
   "metadata": {},
   "outputs": [
    {
     "name": "stdout",
     "output_type": "stream",
     "text": [
      "Are tracks getting shorter over decades? \n"
     ]
    },
    {
     "data": {
      "text/plain": [
       "Release Year Decade\n",
       "1920-30      3.875000\n",
       "1930-40      2.843750\n",
       "1940-50      3.062500\n",
       "1950-60      3.700880\n",
       "1960-70      3.617900\n",
       "1970-80      4.196746\n",
       "1980-90      4.342105\n",
       "1990-2000    4.325401\n",
       "2000-10      4.061249\n",
       "2010-20      4.070603\n",
       "Name: Track Duration(In Mins), dtype: float64"
      ]
     },
     "execution_count": 128,
     "metadata": {},
     "output_type": "execute_result"
    }
   ],
   "source": [
    "filtered_tracks_group = outlier_occupancy.groupby(\"Release Year Decade\")\n",
    "print(\"Are tracks getting shorter over decades? \")\n",
    "filtered_tracks_group[\"Track Duration(In Mins)\"].mean()\n"
   ]
  },
  {
   "cell_type": "code",
   "execution_count": 129,
   "metadata": {},
   "outputs": [
    {
     "data": {
      "image/png": "[encoded data removed]",
      "text/plain": [
       "<Figure size 432x288 with 1 Axes>"
      ]
     },
     "metadata": {
      "needs_background": "light"
     },
     "output_type": "display_data"
    },
    {
     "data": {
      "text/plain": [
       "<Figure size 432x288 with 0 Axes>"
      ]
     },
     "metadata": {},
     "output_type": "display_data"
    }
   ],
   "source": [
    "Average_Track_Duration = filtered_tracks_group[\"Track Duration(In Mins)\"].mean()\n",
    "Track_chart = Average_Track_Duration.plot(kind=\"bar\", title=\"Track Duration By Decade\")\n",
    "Track_chart.set_xlabel(\"Release Year Decade\")\n",
    "Track_chart.set_ylabel(\"Average Track Duration (In Mins)\")\n",
    "\n",
    "plt.show()\n",
    "plt.tight_layout()"
   ]
  },
  {
   "cell_type": "code",
   "execution_count": null,
   "metadata": {},
   "outputs": [],
   "source": [
    "#grouped_tracks = top10_tracks.groupby(\"Artist ID\")\n",
    "# Mean of dancebility vs energy \n",
    "# scatter chart \n",
    "# linear regression\n"
   ]
  },
  {
   "cell_type": "code",
   "execution_count": null,
   "metadata": {},
   "outputs": [],
   "source": [
    "#grouped_tracks = top10_tracks.groupby(\"Artist ID\")\n",
    "# Mean of Valence vs energy \n",
    "# scatter chart \n",
    "# linear regression\n"
   ]
  },
  {
   "cell_type": "code",
   "execution_count": null,
   "metadata": {},
   "outputs": [],
   "source": [
    "# how many artist have same genre\n",
    "# artist with multiple genre are more followed or more popular or not"
   ]
  },
  {
   "cell_type": "code",
   "execution_count": null,
   "metadata": {},
   "outputs": [],
   "source": [
    "\n",
    "# group by each genre and create bins of popularity 10-20 , 20-30, 30-40\n",
    "# figure out the artist count for each genre and then put the artist into bins of popularity.\n",
    "# Get the 2 popularity bins and plot for each genere"
   ]
  },
  {
   "cell_type": "code",
   "execution_count": null,
   "metadata": {},
   "outputs": [],
   "source": [
    "# finding out a track with more dancebility is more popular"
   ]
  },
  {
   "cell_type": "code",
   "execution_count": null,
   "metadata": {},
   "outputs": [],
   "source": [
    "# in what decade hat kind of songs were more popular. ( track with what features were more popular)"
   ]
  },
  {
   "cell_type": "code",
   "execution_count": null,
   "metadata": {},
   "outputs": [],
   "source": [
    "# Per decade plot a graph for certain features of tracks to see which feature were more popular in cetrain decades"
   ]
  },
  {
   "cell_type": "code",
   "execution_count": null,
   "metadata": {},
   "outputs": [],
   "source": [
    "# popularity of tracks vs track duration. Are tracks with shorter duration are more popular?\n",
    "# average Track duration is getting shorter over time"
   ]
  }
 ],
 "metadata": {
  "anaconda-cloud": {},
  "kernelspec": {
   "display_name": "Python [conda env:PythonData] *",
   "language": "python",
   "name": "conda-env-PythonData-py"
  },
  "language_info": {
   "codemirror_mode": {
    "name": "ipython",
    "version": 3
   },
   "file_extension": ".py",
   "mimetype": "text/x-python",
   "name": "python",
   "nbconvert_exporter": "python",
   "pygments_lexer": "ipython3",
   "version": "3.8.3"
  }
 },
 "nbformat": 4,
 "nbformat_minor": 2
}
